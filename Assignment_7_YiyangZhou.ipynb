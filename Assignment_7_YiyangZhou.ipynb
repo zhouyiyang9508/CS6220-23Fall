{
  "nbformat": 4,
  "nbformat_minor": 0,
  "metadata": {
    "colab": {
      "provenance": [],
      "authorship_tag": "ABX9TyMr0NLSpduRl56x1FnPqvpC",
      "include_colab_link": true
    },
    "kernelspec": {
      "name": "python3",
      "display_name": "Python 3"
    },
    "language_info": {
      "name": "python"
    }
  },
  "cells": [
    {
      "cell_type": "markdown",
      "metadata": {
        "id": "view-in-github",
        "colab_type": "text"
      },
      "source": [
        "<a href=\"https://colab.research.google.com/github/zhouyiyang9508/CS6220-23Fall/blob/main/Assignment_7_YiyangZhou.ipynb\" target=\"_parent\"><img src=\"https://colab.research.google.com/assets/colab-badge.svg\" alt=\"Open In Colab\"/></a>"
      ]
    },
    {
      "cell_type": "code",
      "execution_count": 31,
      "metadata": {
        "colab": {
          "base_uri": "https://localhost:8080/"
        },
        "id": "duwZ4TXMoIFa",
        "outputId": "69d2e512-b82c-4296-93c2-d1fea30ffb63"
      },
      "outputs": [
        {
          "output_type": "stream",
          "name": "stdout",
          "text": [
            "--2023-11-19 00:16:17--  https://course.ccs.neu.edu/cs6220/fall2023/homework-7/data/titanic/titanic.test.csv\n",
            "Resolving course.ccs.neu.edu (course.ccs.neu.edu)... 129.10.117.35\n",
            "Connecting to course.ccs.neu.edu (course.ccs.neu.edu)|129.10.117.35|:443... connected.\n",
            "HTTP request sent, awaiting response... 200 OK\n",
            "Length: 35145 (34K) [text/csv]\n",
            "Saving to: ‘titanic.test.csv.2’\n",
            "\n",
            "titanic.test.csv.2  100%[===================>]  34.32K  --.-KB/s    in 0.07s   \n",
            "\n",
            "2023-11-19 00:16:17 (483 KB/s) - ‘titanic.test.csv.2’ saved [35145/35145]\n",
            "\n",
            "--2023-11-19 00:16:17--  https://course.ccs.neu.edu/cs6220/fall2023/homework-7/data/titanic/titanic.train.csv\n",
            "Resolving course.ccs.neu.edu (course.ccs.neu.edu)... 129.10.117.35\n",
            "Connecting to course.ccs.neu.edu (course.ccs.neu.edu)|129.10.117.35|:443... connected.\n",
            "HTTP request sent, awaiting response... 200 OK\n",
            "Length: 73203 (71K) [text/csv]\n",
            "Saving to: ‘titanic.train.csv.2’\n",
            "\n",
            "titanic.train.csv.2 100%[===================>]  71.49K  --.-KB/s    in 0.1s    \n",
            "\n",
            "2023-11-19 00:16:18 (503 KB/s) - ‘titanic.train.csv.2’ saved [73203/73203]\n",
            "\n"
          ]
        }
      ],
      "source": [
        "!wget https://course.ccs.neu.edu/cs6220/fall2023/homework-7/data/titanic/titanic.test.csv\n",
        "!wget https://course.ccs.neu.edu/cs6220/fall2023/homework-7/data/titanic/titanic.train.csv"
      ]
    },
    {
      "cell_type": "code",
      "source": [
        "import pandas as pd\n",
        "import numpy as np\n",
        "\n",
        "train_data = pd.read_csv(\"titanic.train.csv\")\n",
        "test_data = pd.read_csv(\"titanic.test.csv\")\n",
        "\n",
        "features = ['pclass', 'sex', 'age', 'sibsp', 'parch', 'fare', 'embarked']\n",
        "X_train = train_data[features]\n",
        "y_train = train_data['survived']\n",
        "X_test = test_data[features]\n",
        "y_test = test_data['survived']"
      ],
      "metadata": {
        "id": "FqBZ5s2goflY"
      },
      "execution_count": 32,
      "outputs": []
    },
    {
      "cell_type": "code",
      "source": [
        "def standardize(df, columns):\n",
        "    for column in columns:\n",
        "        df[column] = (df[column] - df[column].mean()) / df[column].std()\n",
        "    return df\n",
        "\n",
        "def one_hot_encode(df, columns):\n",
        "    for column in columns:\n",
        "        dummies = pd.get_dummies(df[column], prefix=column, dummy_na=True) # Including NaN as a category\n",
        "        df = pd.concat([df, dummies], axis=1).drop(column, axis=1)\n",
        "    return df\n",
        "\n",
        "def impute_missing_numeric(df, columns):\n",
        "    for column in columns:\n",
        "        df[column].fillna(df[column].median(), inplace=True)\n",
        "    return df"
      ],
      "metadata": {
        "id": "ePzNs0fzppKg"
      },
      "execution_count": 33,
      "outputs": []
    },
    {
      "cell_type": "code",
      "source": [
        "def sigmoid(x):\n",
        "    return 1 / (1 + np.exp(-x))\n",
        "\n",
        "def gradsigmoid(x):\n",
        "    sig = sigmoid(x)\n",
        "    return sig * (1 - sig)\n",
        "\n",
        "def logreg(W, x, b):\n",
        "    return sigmoid((W @ x.T).T + b)\n",
        "\n",
        "def costfxn(y, W, x, b):\n",
        "    yhat = logreg(W, x, b)\n",
        "    return -np.sum(y * np.log(yhat) + (1 - y) * np.log(1 - yhat))\n",
        "\n",
        "def gradW(y, W, x, b):\n",
        "    yhat = logreg(W, x, b)\n",
        "    return (np.expand_dims(yhat - y, 2) * np.expand_dims(x, 1)).sum(axis=0)\n",
        "\n",
        "def gradb(y, W, x, b):\n",
        "    yhat = logreg(W, x, b)\n",
        "    return (yhat - y).sum(axis=0)"
      ],
      "metadata": {
        "id": "VMEfl7NPrJUD"
      },
      "execution_count": 34,
      "outputs": []
    },
    {
      "cell_type": "code",
      "source": [
        "import matplotlib.pyplot as plt\n",
        "\n",
        "numeric_features = ['age', 'sibsp', 'parch', 'fare']\n",
        "categorical_features = ['pclass', 'sex', 'embarked']\n",
        "\n",
        "X_train_processed = X_train.copy()\n",
        "X_train_processed = impute_missing_numeric(X_train_processed, numeric_features)\n",
        "X_train_processed = standardize(X_train_processed, numeric_features)\n",
        "X_train_processed = one_hot_encode(X_train_processed, categorical_features)\n",
        "\n",
        "X_test_processed = X_test.copy()\n",
        "X_test_processed = impute_missing_numeric(X_test_processed, numeric_features)\n",
        "X_test_processed = standardize(X_test_processed, numeric_features)\n",
        "X_test_processed = one_hot_encode(X_test_processed, categorical_features)\n",
        "\n",
        "X_test_processed = X_test_processed.reindex(columns = X_train_processed.columns, fill_value=0)\n",
        "\n",
        "X_train_np = X_train_processed.to_numpy()\n",
        "y_train_np = y_train.to_numpy().reshape(-1, 1)\n",
        "X_test_np = X_test_processed.to_numpy()\n",
        "y_test_np = y_test.to_numpy().reshape(-1, 1)\n",
        "\n",
        "np.random.seed(0)\n",
        "W = np.random.randn(1, X_train_np.shape[1])\n",
        "b = np.random.randn(1)\n",
        "\n",
        "learning_rate = 0.01\n",
        "iterations = 1000\n",
        "\n",
        "losses = []\n",
        "\n",
        "for _ in range(iterations):\n",
        "    W_gradient = gradW(y_train_np, W, X_train_np, b)\n",
        "    b_gradient = gradb(y_train_np, W, X_train_np, b)\n",
        "\n",
        "    W -= learning_rate * W_gradient\n",
        "    b -= learning_rate * b_gradient\n",
        "\n",
        "    loss = costfxn(y_train_np, W, X_train_np, b)\n",
        "    losses.append(loss)\n",
        "\n",
        "plt.plot(losses)\n",
        "plt.xlabel('Iteration Number')\n",
        "plt.ylabel('Loss Value')\n",
        "\n",
        "train_accuracy = np.mean((logreg(W, X_train_np, b) >= 0.5) == y_train_np)\n",
        "test_accuracy = np.mean((logreg(W, X_test_np, b) >= 0.5) == y_test_np)\n",
        "\n",
        "print(\"accuracy on training data is\", train_accuracy)\n",
        "print(\"accuracy on test data is\", test_accuracy)\n",
        "print(\"the learning rate is \", learning_rate)\n"
      ],
      "metadata": {
        "colab": {
          "base_uri": "https://localhost:8080/",
          "height": 501
        },
        "id": "mNNetcaYp1qh",
        "outputId": "05292bf1-8aae-462e-8c4a-db6364c7812a"
      },
      "execution_count": 35,
      "outputs": [
        {
          "output_type": "stream",
          "name": "stdout",
          "text": [
            "accuracy on training data is 0.7239057239057239\n",
            "accuracy on test data is 0.6961722488038278\n",
            "the learning rate is  0.01\n"
          ]
        },
        {
          "output_type": "display_data",
          "data": {
            "text/plain": [
              "<Figure size 640x480 with 1 Axes>"
            ],
            "image/png": "[encoded data removed]"
          },
          "metadata": {}
        }
      ]
    },
    {
      "cell_type": "markdown",
      "source": [
        "Features Used: 'pclass', 'sex', 'age', 'sibsp', 'parch', 'fare', 'embarked'.\n",
        "\n",
        "Data Transformation:\n",
        "\n",
        "Numeric Features ('age', 'sibsp', 'parch', 'fare'):\n",
        "\n",
        "standardized (mean = 0, standard deviation = 1).\n",
        "\n",
        "Categorical Features ('pclass', 'sex', 'embarked'):\n",
        "\n",
        "one-hot encoded.\n",
        "Missing values in numeric features were imputed with the median.\n",
        "\n",
        "Learning Rate: 0.01."
      ],
      "metadata": {
        "id": "nXKZMlnx6Pbj"
      }
    },
    {
      "cell_type": "code",
      "source": [
        "import tensorflow as tf\n",
        "from tensorflow.keras.models import Sequential\n",
        "from tensorflow.keras.layers import Dense\n",
        "from tensorflow.keras.optimizers import Adam"
      ],
      "metadata": {
        "id": "tQnWnopcqbmx"
      },
      "execution_count": 36,
      "outputs": []
    },
    {
      "cell_type": "code",
      "source": [
        "model_logistic = Sequential()\n",
        "model_logistic.add(Dense(1, input_dim=X_train_np.shape[1], activation='sigmoid'))\n",
        "\n",
        "model_logistic.compile(optimizer=Adam(learning_rate=0.01), loss='binary_crossentropy', metrics=['accuracy'])\n",
        "\n",
        "model_logistic.fit(X_train_np, y_train_np, epochs=100, batch_size=10, verbose=0, validation_split=0.2)\n",
        "\n",
        "test_accuracy_logistic = model_logistic.evaluate(X_test_np, y_test_np, verbose=0)[1]\n",
        "print(test_accuracy_logistic)"
      ],
      "metadata": {
        "colab": {
          "base_uri": "https://localhost:8080/"
        },
        "id": "oxF6X9mH61UX",
        "outputId": "04e1f825-4693-4eae-9c11-755a45ad847e"
      },
      "execution_count": 37,
      "outputs": [
        {
          "output_type": "stream",
          "name": "stdout",
          "text": [
            "0.7990430593490601\n"
          ]
        }
      ]
    },
    {
      "cell_type": "code",
      "source": [
        "model_nn = Sequential()\n",
        "model_nn.add(Dense(64, input_dim=X_train_np.shape[1], activation='relu'))  # First hidden layer\n",
        "model_nn.add(Dense(32, activation='relu'))  # Second hidden layer\n",
        "model_nn.add(Dense(1, activation='sigmoid'))  # Output layer\n",
        "\n",
        "model_nn.compile(optimizer=Adam(learning_rate=0.01), loss='binary_crossentropy', metrics=['accuracy'])\n",
        "\n",
        "model_nn.fit(X_train_np, y_train_np, epochs=100, batch_size=10, verbose=0, validation_split=0.2)\n",
        "\n",
        "test_accuracy_nn = model_nn.evaluate(X_test_np, y_test_np, verbose=0)[1]\n",
        "print(test_accuracy_nn)"
      ],
      "metadata": {
        "colab": {
          "base_uri": "https://localhost:8080/"
        },
        "id": "G3LeVoj77RQv",
        "outputId": "2e94ed60-f6fb-4c03-c605-15282130b776"
      },
      "execution_count": 38,
      "outputs": [
        {
          "output_type": "stream",
          "name": "stdout",
          "text": [
            "0.8133971095085144\n"
          ]
        }
      ]
    }
  ]
}