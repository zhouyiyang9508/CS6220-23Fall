{
  "cells": [
    {
      "cell_type": "code",
      "execution_count": 27,
      "metadata": {
        "id": "bdM6NSRawQsw",
        "colab": {
          "base_uri": "https://localhost:8080/"
        },
        "outputId": "4d8bb503-b736-40ee-f98e-8c1374786c26"
      },
      "outputs": [
        {
          "output_type": "stream",
          "name": "stdout",
          "text": [
            "Data in combined_data_1.txt looks like this: \n",
            "\n",
            "1:\n",
            "1488844,3,2005-09-06\n",
            "822109,5,2005-05-13\n",
            "885013,4,2005-10-19\n",
            "30878,4,2005-12-26\n",
            "\n",
            "\n",
            "Data in movie_titles.csv looks like this: \n",
            "\n",
            "1,2003,Dinosaur Planet\n",
            "2,2004,Isle of Man TT 2004 Review\n",
            "3,1997,Character\n",
            "4,1994,Paula Abdul's Get Up & Dance\n",
            "5,2004,The Rise and Fall of ECW\n"
          ]
        }
      ],
      "source": [
        "#@title Download the data from website\n",
        "!wget -nc https://course.ccs.neu.edu/cs6220/fall2023/homework-1/netflix-data/movie_titles.csv\n",
        "!wget -nc https://course.ccs.neu.edu/cs6220/fall2023/homework-1/netflix-data/combined_data_1.txt\n",
        "!wget -nc https://course.ccs.neu.edu/cs6220/fall2023/homework-1/netflix-data/combined_data_2.txt\n",
        "!wget -nc https://course.ccs.neu.edu/cs6220/fall2023/homework-1/netflix-data/combined_data_3.txt\n",
        "!wget -nc https://course.ccs.neu.edu/cs6220/fall2023/homework-1/netflix-data/combined_data_4.txt\n",
        "\n",
        "from IPython.display import clear_output\n",
        "clear_output()\n",
        "\n",
        "print(\"Data in combined_data_1.txt looks like this: \\n\")\n",
        "!head -5 combined_data_1.txt\n",
        "\n",
        "print(\"\\n\\nData in movie_titles.csv looks like this: \\n\")\n",
        "\n",
        "!head -5 movie_titles.csv"
      ]
    },
    {
      "cell_type": "code",
      "source": [
        "f = open(\"movie_titles.csv\", encoding =\"cp1252\")\n",
        "data_lines = open(\"combined_data_1.txt\", \"r\").readlines()\n",
        "!wget -nc https://course.ccs.neu.edu/cs6220/fall2023/homework-1/basket_data.csv"
      ],
      "metadata": {
        "id": "yljOq5Mod1Q2",
        "colab": {
          "base_uri": "https://localhost:8080/"
        },
        "outputId": "b9015a80-6bf7-4bcc-9a10-381faa934d71"
      },
      "execution_count": 28,
      "outputs": [
        {
          "output_type": "stream",
          "name": "stdout",
          "text": [
            "--2023-09-18 06:52:53--  https://course.ccs.neu.edu/cs6220/fall2023/homework-1/basket_data.csv\n",
            "Resolving course.ccs.neu.edu (course.ccs.neu.edu)... 129.10.117.35\n",
            "Connecting to course.ccs.neu.edu (course.ccs.neu.edu)|129.10.117.35|:443... connected.\n",
            "HTTP request sent, awaiting response... 200 OK\n",
            "Length: 2357 (2.3K) [text/csv]\n",
            "Saving to: ‘basket_data.csv’\n",
            "\n",
            "basket_data.csv     100%[===================>]   2.30K  --.-KB/s    in 0s      \n",
            "\n",
            "2023-09-18 06:52:53 (79.7 MB/s) - ‘basket_data.csv’ saved [2357/2357]\n",
            "\n"
          ]
        }
      ]
    },
    {
      "cell_type": "code",
      "source": [
        "def cardinality_items( filename ):\n",
        "  unique_items = set()\n",
        "  with open(filename, 'r') as file:\n",
        "    for line in file:\n",
        "      items = [item.strip() for item in line.split(',')]\n",
        "      unique_items.update(items)\n",
        "  return len(unique_items)\n",
        "\n",
        "res = cardinality_items(\"basket_data.csv\")\n",
        "print(res)"
      ],
      "metadata": {
        "colab": {
          "base_uri": "https://localhost:8080/"
        },
        "id": "QojQNIqqDVhR",
        "outputId": "949c2f22-cda0-4fbf-c058-7091866edc7b"
      },
      "execution_count": 29,
      "outputs": [
        {
          "output_type": "stream",
          "name": "stdout",
          "text": [
            "21\n"
          ]
        }
      ]
    },
    {
      "cell_type": "code",
      "source": [
        "def all_itemsets(unique_items, N):\n",
        "  if N == 0:\n",
        "    return [set()]\n",
        "  if N > len(unique_items):\n",
        "    return []\n",
        "\n",
        "  def generate_combinations(items, k):\n",
        "    if k == 0:\n",
        "      return [set()]\n",
        "    if not items:\n",
        "      return []\n",
        "\n",
        "    include_first = [{items[0]} | subset for subset in generate_combinations(items[1:], k-1)]\n",
        "    exclude_first = generate_combinations(items[1:], k)\n",
        "\n",
        "    return include_first + exclude_first\n",
        "\n",
        "  return generate_combinations(unique_items, N)\n",
        "\n",
        "\n",
        "unique_items = ['ham', 'cheese', 'bread']\n",
        "N = 2\n",
        "print(all_itemsets(unique_items, N))\n"
      ],
      "metadata": {
        "colab": {
          "base_uri": "https://localhost:8080/"
        },
        "id": "-RszBuQfETXa",
        "outputId": "f94f18a9-345d-4b09-a997-65630519f5fb"
      },
      "execution_count": 30,
      "outputs": [
        {
          "output_type": "stream",
          "name": "stdout",
          "text": [
            "[{'ham', 'cheese'}, {'ham', 'bread'}, {'bread', 'cheese'}]\n"
          ]
        }
      ]
    },
    {
      "cell_type": "code",
      "source": [
        "import os\n",
        "\n",
        "def count_movie_ratings():\n",
        "  total_ratings = 0\n",
        "\n",
        "  files = os.listdir()\n",
        "  print(files)\n",
        "\n",
        "  combined_data_files = [f for f in files if f.startswith(\"combined_data_\") and f.endswith(\".txt\")]\n",
        "\n",
        "  for file_name in combined_data_files:\n",
        "    with open(file_name, 'r') as file:\n",
        "      for line in file:\n",
        "        if not line.strip().endswith(':'):\n",
        "          total_ratings += 1\n",
        "\n",
        "  return total_ratings\n",
        "\n",
        "print(count_movie_ratings())"
      ],
      "metadata": {
        "id": "-K_DKHcNKg_E",
        "outputId": "0d1f4bfb-ff6c-4810-d442-8fcdeea16315",
        "colab": {
          "base_uri": "https://localhost:8080/"
        }
      },
      "execution_count": 31,
      "outputs": [
        {
          "output_type": "stream",
          "name": "stdout",
          "text": [
            "['.config', 'combined_data_4.txt', 'movie_titles.csv', 'combined_data_1.txt', 'combined_data_3.txt', 'basket_data.csv', 'combined_data_2.txt', 'sample_data']\n",
            "100480507\n"
          ]
        }
      ]
    },
    {
      "cell_type": "code",
      "source": [
        "def count_unique_users():\n",
        "  unique_users = set()\n",
        "\n",
        "  files = os.listdir()\n",
        "\n",
        "  combined_data_files = [f for f in files if f.startswith(\"combined_data_\") and f.endswith(\".txt\")]\n",
        "\n",
        "  for file_name in combined_data_files:\n",
        "    with open(file_name, 'r') as file:\n",
        "      for line in file:\n",
        "        if not line.strip().endswith(':'):\n",
        "          user_id = line.split(',')[0]\n",
        "          unique_users.add(user_id)\n",
        "\n",
        "  return len(unique_users)\n",
        "\n",
        "print(count_unique_users())"
      ],
      "metadata": {
        "id": "XsozFKPcYLGo",
        "outputId": "e8021199-7345-463e-e94d-a4053e321f4f",
        "colab": {
          "base_uri": "https://localhost:8080/"
        }
      },
      "execution_count": 32,
      "outputs": [
        {
          "output_type": "stream",
          "name": "stdout",
          "text": [
            "480189\n"
          ]
        }
      ]
    },
    {
      "cell_type": "code",
      "source": [
        "def find_date_range():\n",
        "  earliest_year = float('inf')\n",
        "  latest_year = float('-inf')\n",
        "\n",
        "  files = os.listdir()\n",
        "\n",
        "  combined_data_files = [f for f in files if f.startswith(\"combined_data_\") and f.endswith(\".txt\")]\n",
        "\n",
        "  for file_name in combined_data_files:\n",
        "    with open(file_name, 'r') as file:\n",
        "      for line in file:\n",
        "        if not line.strip().endswith(':'):\n",
        "          date = line.split(',')[-1].strip()\n",
        "          year = int(date.split('-')[0])\n",
        "          earliest_year = min(earliest_year, year)\n",
        "          latest_year = max(latest_year, year)\n",
        "\n",
        "  return (earliest_year, latest_year)\n",
        "\n",
        "print(find_date_range())"
      ],
      "metadata": {
        "id": "tmrNBDqCcQon",
        "outputId": "4ae2a6bf-1e3f-4ca5-fb44-7b92f153f213",
        "colab": {
          "base_uri": "https://localhost:8080/"
        }
      },
      "execution_count": 33,
      "outputs": [
        {
          "output_type": "stream",
          "name": "stdout",
          "text": [
            "(1999, 2005)\n"
          ]
        }
      ]
    },
    {
      "cell_type": "code",
      "source": [
        "import csv\n",
        "def count_unique_movie_names(filename):\n",
        "  movie_names = set()\n",
        "\n",
        "  with open(filename, 'r', encoding='cp1252') as file:\n",
        "    reader = csv.reader(file)\n",
        "    for row in reader:\n",
        "      movie_name = row[2]\n",
        "      movie_names.add(movie_name)\n",
        "\n",
        "  return len(movie_names)\n",
        "\n",
        "filename = \"movie_titles.csv\"\n",
        "print(count_unique_movie_names(filename))\n"
      ],
      "metadata": {
        "id": "6ChFqh2Vx55F",
        "outputId": "5dc9e817-01a4-4391-8692-35b115eef4d1",
        "colab": {
          "base_uri": "https://localhost:8080/"
        }
      },
      "execution_count": 34,
      "outputs": [
        {
          "output_type": "stream",
          "name": "stdout",
          "text": [
            "17297\n"
          ]
        }
      ]
    },
    {
      "cell_type": "code",
      "source": [
        "def count_movie_names_with_four_references(filename):\n",
        "  movie_name_counts = {}\n",
        "\n",
        "  with open(filename, 'r', encoding='cp1252') as file:\n",
        "    reader = csv.reader(file)\n",
        "    for row in reader:\n",
        "      movie_name = row[2]\n",
        "      movie_name_counts[movie_name] = movie_name_counts.get(movie_name, 0) + 1\n",
        "\n",
        "  count = sum(1 for name, occurrences in movie_name_counts.items() if occurrences == 4)\n",
        "  return count\n",
        "\n",
        "print(count_movie_names_with_four_references(filename))"
      ],
      "metadata": {
        "id": "gAjHX5JxyMQn",
        "outputId": "cb82f3ae-a795-4c45-8a6c-b430f3080932",
        "colab": {
          "base_uri": "https://localhost:8080/"
        }
      },
      "execution_count": 35,
      "outputs": [
        {
          "output_type": "stream",
          "name": "stdout",
          "text": [
            "7\n"
          ]
        }
      ]
    },
    {
      "cell_type": "code",
      "source": [
        "def count_users_rated_200_movies():\n",
        "  user_ratings_count = {}\n",
        "  user_5_star_movies = {}\n",
        "\n",
        "  files = os.listdir()\n",
        "\n",
        "  combined_data_files = [f for f in files if f.startswith(\"combined_data_\") and f.endswith(\".txt\")]\n",
        "\n",
        "  current_movie_id = None\n",
        "  for file_name in combined_data_files:\n",
        "    with open(file_name, 'r') as file:\n",
        "      for line in file:\n",
        "        if line.strip().endswith(':'):\n",
        "          current_movie_id = line[:-1]\n",
        "        else:\n",
        "          user_id, rating, _ = line.split(',')\n",
        "          if rating == '5':\n",
        "            if user_id not in user_5_star_movies:\n",
        "              user_5_star_movies[user_id] = []\n",
        "            user_5_star_movies[user_id].append(current_movie_id)\n",
        "          user_ratings_count[user_id] = user_ratings_count.get(user_id, 0) + 1\n",
        "\n",
        "  count = sum(1 for user, ratings in user_ratings_count.items() if ratings == 200)\n",
        "  users_200_ratings = [user for user, count in user_ratings_count.items() if count == 200]\n",
        "  return count, users_200_ratings, user_5_star_movies\n",
        "\n",
        "count, users_200_ratings, user_5_star_movies = count_users_rated_200_movies()\n",
        "print(count)\n",
        "lowest_id_user = min(users_200_ratings, key=int)\n",
        "print(lowest_id_user)\n",
        "favorite_movie_ids = user_5_star_movies.get(lowest_id_user, [])\n"
      ],
      "metadata": {
        "id": "Wed2V2m1yxsM",
        "outputId": "69715c30-ebe1-4d96-8196-c3ec13478cc3",
        "colab": {
          "base_uri": "https://localhost:8080/"
        }
      },
      "execution_count": 36,
      "outputs": [
        {
          "output_type": "stream",
          "name": "stdout",
          "text": [
            "605\n",
            "508\n"
          ]
        }
      ]
    },
    {
      "cell_type": "code",
      "source": [
        "movie_names = {}\n",
        "with open(\"movie_titles.csv\", 'r', encoding='cp1252') as file:\n",
        "  reader = csv.reader(file)\n",
        "  for row in reader:\n",
        "    movie_id, movie_name = row[0], row[2]\n",
        "    movie_names[movie_id] = movie_name\n",
        "\n",
        "print(len(favorite_movie_ids))\n",
        "\n",
        "favorite_movie_names = []\n",
        "for movie_id in favorite_movie_ids:\n",
        "  movie_id = movie_id.split(':')[0]\n",
        "  if movie_id in movie_names:\n",
        "    favorite_movie_names.append(movie_names[movie_id])\n",
        "\n",
        "print(favorite_movie_names)"
      ],
      "metadata": {
        "id": "Y0WQg3RH_cJM",
        "outputId": "2c86032a-8d2f-4b73-cbca-d980f217e3bf",
        "colab": {
          "base_uri": "https://localhost:8080/"
        }
      },
      "execution_count": 37,
      "outputs": [
        {
          "output_type": "stream",
          "name": "stdout",
          "text": [
            "57\n",
            "['Raging Bull', 'Lord of the Rings: The Return of the King', 'Monty Python and the Holy Grail', 'Raising Arizona', 'The Shawshank Redemption: Special Edition', 'Harold and Maude', 'Downfall', 'Lord of the Rings: The Return of the King: Extended Edition', 'Monster', 'Band of Brothers', 'Three Kings', 'Unforgiven', 'Maria Full of Grace', 'Days of Wine and Roses', 'Shakespeare in Love', 'High Fidelity', \"Monty Python's The Meaning of Life: Special Edition\", 'American Beauty', 'Roger & Me', 'Eternal Sunshine of the Spotless Mind', 'Being John Malkovich', 'Vietnam: A Television History', 'Super Size Me', 'Lord of the Rings: The Fellowship of the Ring', 'This Is Spinal Tap', 'The Pianist', 'The Silence of the Lambs', 'Sideways', 'Whale Rider', 'Garden State', 'Bowling for Columbine', 'L.A. Confidential', 'Taxi Driver', 'Lord of the Rings: The Two Towers', 'Cabaret', 'Adaptation', 'The Accused', 'Lost in Translation', \"Boys Don't Cry\", 'To Be and To Have', \"Schindler's List\", 'Gandhi', 'Apocalypse Now Redux', 'To Die For', \"Monty Python's Life of Brian\", 'The Manchurian Candidate', 'Memento', 'Amelie', 'Apocalypse Now', 'The Usual Suspects', 'Lord of the Rings: The Two Towers: Extended Edition', 'The Lord of the Rings: The Fellowship of the Ring: Extended Edition', 'Touching the Void', 'Minority Report', 'The Royal Tenenbaums', 'Election', 'Good Will Hunting']\n"
          ]
        }
      ]
    }
  ],
  "metadata": {
    "colab": {
      "provenance": [],
      "toc_visible": true
    },
    "kernelspec": {
      "display_name": "Python 3",
      "name": "python3"
    },
    "language_info": {
      "name": "python"
    }
  },
  "nbformat": 4,
  "nbformat_minor": 0
}